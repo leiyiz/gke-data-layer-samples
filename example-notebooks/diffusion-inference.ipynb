{
 "cells": [
  {
   "cell_type": "code",
   "execution_count": null,
   "id": "510b6bc7",
   "metadata": {},
   "outputs": [],
   "source": [
    "pip install --upgrade diffusers transformers scipy torch accelerate\n"
   ]
  },
  {
   "cell_type": "code",
   "execution_count": null,
   "id": "21d75d49",
   "metadata": {},
   "outputs": [],
   "source": [
    "import torch\n",
    "\n",
    "device = torch.device(\"cuda\") if torch.cuda.is_available() else torch.device(\"cpu\")\n",
    "device"
   ]
  },
  {
   "cell_type": "code",
   "execution_count": null,
   "id": "47c37aab",
   "metadata": {},
   "outputs": [],
   "source": [
    "import torch\n",
    "from diffusers import StableDiffusionPipeline\n",
    "\n",
    "model_id = \"CompVis/stable-diffusion-v1-4\"\n",
    "device = \"cuda\"\n",
    "\n",
    "\n",
    "pipe = StableDiffusionPipeline.from_pretrained(model_id, torch_dtype=torch.float16)"
   ]
  },
  {
   "cell_type": "code",
   "execution_count": null,
   "id": "5427b285",
   "metadata": {},
   "outputs": [],
   "source": [
    "pipe.save_pretrained(\"./diffusionmodel/\")"
   ]
  },
  {
   "cell_type": "code",
   "execution_count": null,
   "id": "03aaef04",
   "metadata": {},
   "outputs": [],
   "source": [
    "# load model from cache\n",
    "newpipe = StableDiffusionPipeline.from_pretrained(\"./diffusionmodel/\", torch_dtype=torch.float16)\n",
    "\n"
   ]
  },
  {
   "cell_type": "code",
   "execution_count": null,
   "id": "e6423588",
   "metadata": {},
   "outputs": [],
   "source": [
    "# move model to GPU\n",
    "newpipe = newpipe.to(device)"
   ]
  },
  {
   "cell_type": "code",
   "execution_count": null,
   "id": "084203b4",
   "metadata": {},
   "outputs": [],
   "source": [
    "prompt = \"a photo of an astronaut riding a horse on a football field where a blue shirt\"\n",
    "image = newpipe(prompt).images[0]  \n",
    "\n",
    "imagefile = \"astronaut_rides_horse.png\"\n",
    "image.save(imagefile)"
   ]
  },
  {
   "cell_type": "code",
   "execution_count": null,
   "id": "f9fe49ef",
   "metadata": {},
   "outputs": [],
   "source": [
    "%matplotlib inline\n",
    "import matplotlib.pyplot as plt\n",
    "import matplotlib.image as mpimg\n",
    "img = mpimg.imread(imagefile)\n",
    "imgplot = plt.imshow(img)\n",
    "plt.show()"
   ]
  },
  {
   "cell_type": "code",
   "execution_count": null,
   "id": "028ce383",
   "metadata": {},
   "outputs": [],
   "source": []
  }
 ],
 "metadata": {
  "kernelspec": {
   "display_name": "Python 3 (ipykernel)",
   "language": "python",
   "name": "python3"
  },
  "language_info": {
   "codemirror_mode": {
    "name": "ipython",
    "version": 3
   },
   "file_extension": ".py",
   "mimetype": "text/x-python",
   "name": "python",
   "nbconvert_exporter": "python",
   "pygments_lexer": "ipython3",
   "version": "3.8.10"
  }
 },
 "nbformat": 4,
 "nbformat_minor": 5
}
